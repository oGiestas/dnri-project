{
 "cells": [
  {
   "cell_type": "code",
   "execution_count": 1,
   "id": "abd93b7d",
   "metadata": {},
   "outputs": [],
   "source": [
    "import numpy as np\n",
    "loc_test = np.load('bball_data/loc_test_bball.npy')"
   ]
  },
  {
   "cell_type": "code",
   "execution_count": 2,
   "id": "4e22c94e",
   "metadata": {},
   "outputs": [
    {
     "name": "stdout",
     "output_type": "stream",
     "text": [
      "class:  ndarray\n",
      "shape:  (13845, 49, 5, 2)\n",
      "strides:  (3920, 80, 16, 8)\n",
      "itemsize:  8\n",
      "aligned:  True\n",
      "contiguous:  True\n",
      "fortran:  False\n",
      "data pointer: 0x1ea9600f040\n",
      "byteorder:  little\n",
      "byteswap:  False\n",
      "type: float64\n"
     ]
    }
   ],
   "source": [
    "np.info(loc_test)"
   ]
  },
  {
   "cell_type": "code",
   "execution_count": 6,
   "id": "644684a4",
   "metadata": {},
   "outputs": [
    {
     "name": "stdout",
     "output_type": "stream",
     "text": [
      "class:  ndarray\n",
      "shape:  (2000, 99, 2, 15)\n",
      "strides:  (23760, 240, 120, 8)\n",
      "itemsize:  8\n",
      "aligned:  True\n",
      "contiguous:  True\n",
      "fortran:  False\n",
      "data pointer: 0x1eacfad5040\n",
      "byteorder:  little\n",
      "byteswap:  False\n",
      "type: float64\n"
     ]
    }
   ],
   "source": [
    "loc_test_springs15r1 = np.load('GRN_springs_15-100/loc_test_springs15r1.npy')\n",
    "np.info(loc_test_springs15r1)"
   ]
  },
  {
   "cell_type": "code",
   "execution_count": 4,
   "id": "b5fe949b",
   "metadata": {},
   "outputs": [],
   "source": [
    "loc_test_springs15r1 = np.load('GRN_springs_15-100/loc_test_springs15r1.npy')\n",
    "loc_test_springs15r2 = np.load('GRN_springs_15-100/loc_test_springs15r2.npy')\n",
    "loc_test_springs15r3 = np.load('GRN_springs_15-100/loc_test_springs15r3.npy')\n",
    "\n",
    "loc_test_springs15r1 = loc_test_springs15r1[:, :, :, :5]\n",
    "loc_test_springs15r2 = loc_test_springs15r2[:, :, :, :5]\n",
    "loc_test_springs15r3 = loc_test_springs15r3[:, :, :, :5]\n",
    "\n",
    "loc_train_springs15r1 = np.load('GRN_springs_15-100/loc_train_springs15r1.npy')\n",
    "loc_train_springs15r2 = np.load('GRN_springs_15-100/loc_train_springs15r2.npy')\n",
    "loc_train_springs15r3 = np.load('GRN_springs_15-100/loc_train_springs15r3.npy')\n",
    "\n",
    "loc_train_springs15r1 = loc_train_springs15r1[:, :, :, :5]\n",
    "loc_train_springs15r2 = loc_train_springs15r2[:, :, :, :5]\n",
    "loc_train_springs15r3 = loc_train_springs15r3[:, :, :, :5]\n",
    "\n",
    "loc_valid_springs15r1 = np.load('GRN_springs_15-100/loc_valid_springs15r1.npy')\n",
    "loc_valid_springs15r2 = np.load('GRN_springs_15-100/loc_valid_springs15r2.npy')\n",
    "loc_valid_springs15r3 = np.load('GRN_springs_15-100/loc_valid_springs15r3.npy')\n",
    "\n",
    "loc_valid_springs15r1 = loc_valid_springs15r1[:, :, :, :5]\n",
    "loc_valid_springs15r2 = loc_valid_springs15r2[:, :, :, :5]\n",
    "loc_valid_springs15r3 = loc_valid_springs15r3[:, :, :, :5]"
   ]
  },
  {
   "cell_type": "code",
   "execution_count": 5,
   "id": "f4106a55",
   "metadata": {},
   "outputs": [
    {
     "name": "stdout",
     "output_type": "stream",
     "text": [
      "Original shape: (2000, 99, 2, 5)\n",
      "Transposed shape: (2000, 99, 5, 2)\n"
     ]
    }
   ],
   "source": [
    "# Transpose the array to swap the last two dimensions\n",
    "loc_test_springs15r1_adapted = np.transpose(loc_test_springs15r1, axes=(0, 1, 3, 2))\n",
    "loc_test_springs15r2_adapted = np.transpose(loc_test_springs15r2, axes=(0, 1, 3, 2))\n",
    "loc_test_springs15r3_adapted = np.transpose(loc_test_springs15r3, axes=(0, 1, 3, 2))\n",
    "\n",
    "loc_train_springs15r1_adapted = np.transpose(loc_train_springs15r1, axes=(0, 1, 3, 2))\n",
    "loc_train_springs15r2_adapted = np.transpose(loc_train_springs15r2, axes=(0, 1, 3, 2))\n",
    "loc_train_springs15r3_adapted = np.transpose(loc_train_springs15r3, axes=(0, 1, 3, 2))\n",
    "\n",
    "loc_valid_springs15r1_adapted = np.transpose(loc_valid_springs15r1, axes=(0, 1, 3, 2))\n",
    "loc_valid_springs15r2_adapted = np.transpose(loc_valid_springs15r2, axes=(0, 1, 3, 2))\n",
    "loc_valid_springs15r3_adapted = np.transpose(loc_valid_springs15r3, axes=(0, 1, 3, 2))\n",
    "\n",
    "print(\"Original shape:\", loc_test_springs15r1.shape)\n",
    "print(\"Transposed shape:\", loc_test_springs15r1_adapted.shape)"
   ]
  },
  {
   "cell_type": "code",
   "execution_count": 6,
   "id": "857a810e",
   "metadata": {},
   "outputs": [],
   "source": [
    "vel_test_springs15r1 = np.load('GRN_springs_15-100/loc_test_springs15r1.npy')\n",
    "vel_test_springs15r2 = np.load('GRN_springs_15-100/loc_test_springs15r2.npy')\n",
    "vel_test_springs15r3 = np.load('GRN_springs_15-100/loc_test_springs15r3.npy')\n",
    "\n",
    "vel_test_springs15r1 = vel_test_springs15r1[:, :, :, :5]\n",
    "vel_test_springs15r2 = vel_test_springs15r2[:, :, :, :5]\n",
    "vel_test_springs15r3 = vel_test_springs15r3[:, :, :, :5]\n",
    "\n",
    "vel_train_springs15r1 = np.load('GRN_springs_15-100/loc_train_springs15r1.npy')\n",
    "vel_train_springs15r2 = np.load('GRN_springs_15-100/loc_train_springs15r2.npy')\n",
    "vel_train_springs15r3 = np.load('GRN_springs_15-100/loc_train_springs15r3.npy')\n",
    "\n",
    "vel_train_springs15r1 = vel_train_springs15r1[:, :, :, :5]\n",
    "vel_train_springs15r2 = vel_train_springs15r2[:, :, :, :5]\n",
    "vel_train_springs15r3 = vel_train_springs15r3[:, :, :, :5]\n",
    "\n",
    "vel_valid_springs15r1 = np.load('GRN_springs_15-100/loc_valid_springs15r1.npy')\n",
    "vel_valid_springs15r2 = np.load('GRN_springs_15-100/loc_valid_springs15r2.npy')\n",
    "vel_valid_springs15r3 = np.load('GRN_springs_15-100/loc_valid_springs15r3.npy')\n",
    "\n",
    "vel_valid_springs15r1 = vel_valid_springs15r1[:, :, :, :5]\n",
    "vel_valid_springs15r2 = vel_valid_springs15r2[:, :, :, :5]\n",
    "vel_valid_springs15r3 = vel_valid_springs15r3[:, :, :, :5]"
   ]
  },
  {
   "cell_type": "code",
   "execution_count": 7,
   "id": "6b64983c",
   "metadata": {},
   "outputs": [],
   "source": [
    "# Transpose the array to swap the last two dimensions\n",
    "vel_test_springs15r1_adapted = np.transpose(vel_test_springs15r1, axes=(0, 1, 3, 2))\n",
    "vel_test_springs15r2_adapted = np.transpose(vel_test_springs15r2, axes=(0, 1, 3, 2))\n",
    "vel_test_springs15r3_adapted = np.transpose(vel_test_springs15r3, axes=(0, 1, 3, 2))\n",
    "\n",
    "vel_train_springs15r1_adapted = np.transpose(vel_train_springs15r1, axes=(0, 1, 3, 2))\n",
    "vel_train_springs15r2_adapted = np.transpose(vel_train_springs15r2, axes=(0, 1, 3, 2))\n",
    "vel_train_springs15r3_adapted = np.transpose(vel_train_springs15r3, axes=(0, 1, 3, 2))\n",
    "\n",
    "vel_valid_springs15r1_adapted = np.transpose(vel_valid_springs15r1, axes=(0, 1, 3, 2))\n",
    "vel_valid_springs15r2_adapted = np.transpose(vel_valid_springs15r2, axes=(0, 1, 3, 2))\n",
    "vel_valid_springs15r3_adapted = np.transpose(vel_valid_springs15r3, axes=(0, 1, 3, 2))"
   ]
  },
  {
   "cell_type": "code",
   "execution_count": 8,
   "id": "f75c2db7",
   "metadata": {},
   "outputs": [],
   "source": [
    "# Saving the new files\n",
    "np.save('./GNR_springs_15-100_adapted/loc_test_springs15r1.npy', loc_test_springs15r1_adapted)\n",
    "np.save('./GNR_springs_15-100_adapted/loc_test_springs15r2.npy', loc_test_springs15r2_adapted)\n",
    "np.save('./GNR_springs_15-100_adapted/loc_test_springs15r3.npy', loc_test_springs15r3_adapted)\n",
    "\n",
    "np.save('./GNR_springs_15-100_adapted/loc_train_springs15r1.npy', loc_train_springs15r1_adapted)\n",
    "np.save('./GNR_springs_15-100_adapted/loc_train_springs15r2.npy', loc_train_springs15r2_adapted)\n",
    "np.save('./GNR_springs_15-100_adapted/loc_train_springs15r3.npy', loc_train_springs15r3_adapted)\n",
    "\n",
    "np.save('./GNR_springs_15-100_adapted/loc_valid_springs15r1.npy', loc_valid_springs15r1_adapted)\n",
    "np.save('./GNR_springs_15-100_adapted/loc_valid_springs15r2.npy', loc_valid_springs15r2_adapted)\n",
    "np.save('./GNR_springs_15-100_adapted/loc_valid_springs15r3.npy', loc_valid_springs15r3_adapted)"
   ]
  },
  {
   "cell_type": "code",
   "execution_count": 9,
   "id": "25fd0be1",
   "metadata": {},
   "outputs": [],
   "source": [
    "# Saving the new files\n",
    "np.save('./GNR_springs_15-100_adapted/vel_test_springs15r1.npy', vel_test_springs15r1_adapted)\n",
    "np.save('./GNR_springs_15-100_adapted/vel_test_springs15r2.npy', vel_test_springs15r2_adapted)\n",
    "np.save('./GNR_springs_15-100_adapted/vel_test_springs15r3.npy', vel_test_springs15r3_adapted)\n",
    "\n",
    "np.save('./GNR_springs_15-100_adapted/vel_train_springs15r1.npy', vel_train_springs15r1_adapted)\n",
    "np.save('./GNR_springs_15-100_adapted/vel_train_springs15r2.npy', vel_train_springs15r2_adapted)\n",
    "np.save('./GNR_springs_15-100_adapted/vel_train_springs15r3.npy', vel_train_springs15r3_adapted)\n",
    "\n",
    "np.save('./GNR_springs_15-100_adapted/vel_valid_springs15r1.npy', vel_valid_springs15r1_adapted)\n",
    "np.save('./GNR_springs_15-100_adapted/vel_valid_springs15r2.npy', vel_valid_springs15r2_adapted)\n",
    "np.save('./GNR_springs_15-100_adapted/vel_valid_springs15r3.npy', vel_valid_springs15r3_adapted)"
   ]
  },
  {
   "cell_type": "code",
   "execution_count": 2,
   "id": "6eb0237b",
   "metadata": {},
   "outputs": [],
   "source": [
    "edges_train_springs15r1 = np.load('GRN_springs_15-100/edges_train_springs15r1.npy')"
   ]
  },
  {
   "cell_type": "code",
   "execution_count": 3,
   "id": "ef63960a",
   "metadata": {},
   "outputs": [
    {
     "name": "stdout",
     "output_type": "stream",
     "text": [
      "class:  ndarray\n",
      "shape:  (15, 15)\n",
      "strides:  (120, 8)\n",
      "itemsize:  8\n",
      "aligned:  True\n",
      "contiguous:  True\n",
      "fortran:  False\n",
      "data pointer: 0x23f44d639a0\n",
      "byteorder:  little\n",
      "byteswap:  False\n",
      "type: int64\n"
     ]
    }
   ],
   "source": [
    "np.info(edges_train_springs15r1)"
   ]
  },
  {
   "cell_type": "code",
   "execution_count": 4,
   "id": "1585be83",
   "metadata": {},
   "outputs": [
    {
     "name": "stdout",
     "output_type": "stream",
     "text": [
      "[[0 1 1 0 0 0 0 0 0 0 0 1 1 0 0]\n",
      " [0 0 0 0 0 0 0 0 0 0 0 0 0 0 0]\n",
      " [0 1 0 0 0 0 1 1 1 0 1 0 0 0 1]\n",
      " [0 1 1 0 0 0 0 0 1 0 0 0 0 0 0]\n",
      " [0 0 1 0 0 0 0 0 0 0 1 0 0 0 0]\n",
      " [0 0 1 0 0 0 0 0 1 0 0 0 0 0 0]\n",
      " [0 0 0 0 0 0 1 0 1 0 0 0 0 0 0]\n",
      " [0 0 0 0 0 0 1 1 0 0 0 0 0 0 0]\n",
      " [0 0 0 0 0 0 1 0 1 0 0 1 0 0 0]\n",
      " [0 0 0 0 0 0 0 1 0 0 0 0 0 0 0]\n",
      " [0 0 0 0 0 0 0 0 0 0 1 0 0 0 0]\n",
      " [0 0 0 0 0 0 0 0 0 0 0 1 0 0 0]\n",
      " [0 0 0 0 0 0 0 0 0 1 0 1 0 0 0]\n",
      " [0 0 0 0 0 0 0 0 0 1 0 1 1 0 0]\n",
      " [0 0 0 0 0 0 0 0 0 0 0 0 0 0 0]]\n"
     ]
    }
   ],
   "source": [
    "print(edges_train_springs15r1)"
   ]
  }
 ],
 "metadata": {
  "kernelspec": {
   "display_name": "Python 3 (ipykernel)",
   "language": "python",
   "name": "python3"
  },
  "language_info": {
   "codemirror_mode": {
    "name": "ipython",
    "version": 3
   },
   "file_extension": ".py",
   "mimetype": "text/x-python",
   "name": "python",
   "nbconvert_exporter": "python",
   "pygments_lexer": "ipython3",
   "version": "3.9.13"
  }
 },
 "nbformat": 4,
 "nbformat_minor": 5
}
